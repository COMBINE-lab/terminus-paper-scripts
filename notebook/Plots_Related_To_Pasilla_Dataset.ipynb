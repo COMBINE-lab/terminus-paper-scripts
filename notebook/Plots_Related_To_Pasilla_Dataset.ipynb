{
 "cells": [
  {
   "cell_type": "markdown",
   "metadata": {},
   "source": [
    "## Pasilla Dataset\n",
    "\n",
    "### Obtaining the Pasilla dataset\n",
    "\n",
    "Experimental RNA-seq samples from Brooks et al. (2011): The experiment widely known as pasilla (Brooks et al., 2011) is an ensemble of 6 vs 6 RNA-seq experiment (with NCMI GEO accession numbers GSM461176 to GSM461181) that studies the effect of RNAi knockdown of Pasilla, which is the ortholog in Drosophila melanogaster of NOVA1 and NOVA2 mammallian genes. \n",
    "\n",
    " For Salmon quantification, alignment, terminus grouping, and mmcollapse grouping the same commands found in `Plots_Related_To_Human_Simulated_4x4_Dataset.ipynb` are used.\n",
    "\n",
    "The reference is obtained from fly-base and family information is downloaded using biomart."
   ]
  },
  {
   "cell_type": "code",
   "execution_count": 1,
   "metadata": {},
   "outputs": [],
   "source": [
    "import pandas as pd\n",
    "import numpy as np\n",
    "import matplotlib.pyplot as plt\n",
    "%matplotlib inline\n",
    "import seaborn as sns\n",
    "\n",
    "import sys\n",
    "import readBootstraps\n",
    "from collections import defaultdict"
   ]
  },
  {
   "cell_type": "code",
   "execution_count": 6,
   "metadata": {},
   "outputs": [],
   "source": [
    "dmel_gene_tr_name = pd.read_csv(\n",
    "    '/mnt/scratch1/hirak/ASE_Analysis/reference/dmel/gene_transcript_symbol.tsv',\n",
    "    sep = '\\t',\n",
    "    names = ['gene_name','gene_symbol','tr_id','tr_name']\n",
    ")\n",
    "dmel_gene_family = pd.read_csv(\n",
    "    '/mnt/scratch1/hirak/ASE_Analysis/reference/dmel/gene_family.tsv',\n",
    "    sep = '\\t'\n",
    ")\n",
    "dmel_info = pd.merge(\n",
    "    dmel_gene_tr_name,\n",
    "    dmel_gene_family,\n",
    "    on = 'gene_name',\n",
    "    how = 'left'\n",
    ")\n",
    "dmel_info.loc[dmel_info.family_name.isna(),'family_name'] = 'noinfo'\n",
    "t2g = dmel_info[['tr_id','gene_name']].set_index('tr_id')['gene_name'].to_dict()\n",
    "t2f = dmel_info[['tr_id','family_name']].set_index('tr_id')['family_name'].to_dict()\n",
    "\n",
    "def build_biological_info_df(gf,t2g,t2f):\n",
    "    results = []\n",
    "    group_map = defaultdict(list)\n",
    "    with open(gf) as fp:\n",
    "        for line in fp:\n",
    "            names = line.strip().split(',')\n",
    "            num_transcripts= 0\n",
    "            genes_set = set()\n",
    "            fam_set = set()\n",
    "            for n in names[1:]:\n",
    "                group_map[names[0]].append(n)\n",
    "                if t2f[n] != 'noinfo':\n",
    "                    num_transcripts += 1\n",
    "                    genes_set.add(t2g[n])\n",
    "                    fam_set.add(t2f[n])\n",
    "            if num_transcripts > 0:   \n",
    "                results += [[names[0], num_transcripts, len(genes_set), len(fam_set)]]\n",
    "    df = pd.DataFrame(results, columns=['group_id','num_transcripts','num_genes', 'num_families'])\n",
    "    return {\n",
    "        'df': df,\n",
    "        'groups':group_map\n",
    "    }\n",
    "\n",
    "def get_groups(file_name):\n",
    "    group_map = defaultdict(list)\n",
    "    mmcollapse_df = pd.read_csv(\n",
    "        file_name,\n",
    "        sep = '\\t',\n",
    "        skiprows = 1\n",
    "    )\n",
    "    \n",
    "    import re\n",
    "    mmcollapse_groups = {}\n",
    "    group_names = []\n",
    "    grouped_transcripts_mmcollapse = []\n",
    "    for t in mmcollapse_df.feature_id.values:\n",
    "        if ('+' in t) or ('*' in t):\n",
    "            cands = re.split('\\+|\\*', t)\n",
    "            for c in cands:\n",
    "                group_map[t].append(c)\n",
    "                mmcollapse_groups[c] = t\n",
    "                grouped_transcripts_mmcollapse += [c]\n",
    "            group_names += [t]\n",
    "        else:\n",
    "            mmcollapse_groups[t] = t\n",
    "            \n",
    "    return {\n",
    "        'mmcollapse_groups':mmcollapse_groups,\n",
    "        'grouped_transcripts':grouped_transcripts_mmcollapse,\n",
    "        'group_names':group_names,\n",
    "        'group_map' : group_map\n",
    "    }"
   ]
  },
  {
   "cell_type": "code",
   "execution_count": 3,
   "metadata": {},
   "outputs": [],
   "source": [
    "def get_group_info_merc():\n",
    "    group_map = defaultdict(list)\n",
    "    results_merc = []\n",
    "    num_of_collapsed = 0\n",
    "    num_groups = 0\n",
    "    with open('/mnt/scratch1/hirak/ASE_Analysis/drosophila/mercury_result_new/GSR461176/clusters.txt') as fp:\n",
    "        for line in fp:\n",
    "            names = line.strip().split(',')\n",
    "            num_transcripts= 0\n",
    "            genes_set = set()\n",
    "            fam_set = set()\n",
    "            for n in names[1:]:\n",
    "                if t2f[n] != 'noinfo':\n",
    "                    num_transcripts += 1\n",
    "                    genes_set.add(t2g[n])\n",
    "                    fam_set.add(t2f[n])\n",
    "                num_of_collapsed += 1\n",
    "            num_groups += 1\n",
    "            if num_transcripts > 0:\n",
    "                results_merc += [[names[0], num_transcripts, len(genes_set), len(fam_set)]]\n",
    "                \n",
    "    df_merc = pd.DataFrame(results_merc, columns=['group_id','num_transcripts','num_genes', 'num_families'])\n",
    "    return(df_merc, num_of_collapsed, num_groups)\n",
    "\n",
    "def get_group_info_mmcollapse(mmcollapse_group_info):\n",
    "    results_mmcollapse = [] \n",
    "    num_of_collapsed = 0\n",
    "    num_groups = 0\n",
    "    for k,v in mmcollapse_group_info['group_map'].items():\n",
    "        num_transcripts= 0\n",
    "        genes_set = set()\n",
    "        fam_set = set()\n",
    "        for t in v:\n",
    "            if t2f[t] != 'noinfo':\n",
    "                num_transcripts += 1\n",
    "                genes_set.add(t2g[t])\n",
    "                fam_set.add(t2f[t])\n",
    "            num_of_collapsed += 1\n",
    "        num_groups += 1\n",
    "        if num_transcripts > 0:\n",
    "            results_mmcollapse += [[k, num_transcripts, len(genes_set), len(fam_set)]]\n",
    "\n",
    "    df_mmcollapse = pd.DataFrame(results_mmcollapse, columns=[\n",
    "        'group_id','num_transcripts','num_genes', 'num_families'])\n",
    "    return(df_mmcollapse, num_of_collapsed, num_groups)"
   ]
  },
  {
   "cell_type": "code",
   "execution_count": 4,
   "metadata": {},
   "outputs": [],
   "source": [
    "mmcollapse_group_info = get_groups('/mnt/scratch1/hirak/ASE_Analysis/drosophila/mmcollapse_salmon/GSR461176.collapsed.mmseq')"
   ]
  },
  {
   "cell_type": "code",
   "execution_count": 11,
   "metadata": {},
   "outputs": [],
   "source": [
    "df_merc, num_merc_collapses, num_merc_groups = get_group_info_merc()"
   ]
  },
  {
   "cell_type": "code",
   "execution_count": 12,
   "metadata": {},
   "outputs": [],
   "source": [
    "df_mmcollapse, num_mm_collapses, num_mm_groups = get_group_info_mmcollapse(mmcollapse_group_info)"
   ]
  },
  {
   "cell_type": "markdown",
   "metadata": {},
   "source": [
    "#### Figure 6(a)"
   ]
  },
  {
   "cell_type": "code",
   "execution_count": 13,
   "metadata": {},
   "outputs": [
    {
     "data": {
      "image/png": "[encoded data removed]",
      "text/plain": [
       "<Figure size 576x576 with 1 Axes>"
      ]
     },
     "metadata": {
      "needs_background": "light"
     },
     "output_type": "display_data"
    }
   ],
   "source": [
    "df_joined = pd.DataFrame(df_merc.groupby('num_genes')['group_id'].count()).join(\n",
    "    pd.DataFrame(df_mmcollapse.groupby('num_genes')['group_id'].count()),\n",
    "    rsuffix = '_mmcollapse',\n",
    ")\n",
    "df_joined.columns = ['Terminus','mmcollapse']\n",
    "ax = df_joined.plot(kind='bar',figsize=(8,8),rot=0)\n",
    "ax.tick_params(axis='x', labelsize=12)\n",
    "ax.tick_params(axis='y', labelsize=12)\n",
    "plt.ylabel('Number of groups (log)', fontsize = 13)\n",
    "plt.xlabel('Number of originating genes', fontsize = 13)\n",
    "plt.yscale('log')\n",
    "ax.legend(frameon = False,fontsize=12)\n",
    "sns.despine()"
   ]
  },
  {
   "cell_type": "markdown",
   "metadata": {},
   "source": [
    "#### Figure 6(b)"
   ]
  },
  {
   "cell_type": "code",
   "execution_count": 14,
   "metadata": {},
   "outputs": [
    {
     "data": {
      "image/png": "[encoded data removed]",
      "text/plain": [
       "<Figure size 576x576 with 1 Axes>"
      ]
     },
     "metadata": {
      "needs_background": "light"
     },
     "output_type": "display_data"
    }
   ],
   "source": [
    "nts = df_merc.loc[\n",
    "    ~((df_merc.num_genes == 1) & (df_merc.num_families == 1))\n",
    "]\n",
    "\n",
    "ntm = df_mmcollapse.loc[\n",
    "    ~((df_mmcollapse.num_genes == 1) & (df_mmcollapse.num_families == 1))\n",
    "]\n",
    "\n",
    "df_joined = pd.DataFrame(nts.groupby('num_families')['group_id'].count()).join(\n",
    "    pd.DataFrame(ntm.groupby('num_families')['group_id'].count()),\n",
    "    rsuffix = '_mmcollapse',\n",
    ")\n",
    "df_joined.columns = ['Terminus','mmcollapse']\n",
    "ax = df_joined.plot(kind='bar',figsize=(8,8), rot = 0)\n",
    "ax.tick_params(axis='x', labelsize=12)\n",
    "ax.tick_params(axis='y', labelsize=12)\n",
    "plt.ylabel('Number of groups (log)',fontsize = 13)\n",
    "plt.xlabel('Number of originating families',fontsize = 13)\n",
    "plt.yscale('log')\n",
    "ax.legend(frameon = False,fontsize=12)\n",
    "sns.despine()"
   ]
  },
  {
   "cell_type": "code",
   "execution_count": null,
   "metadata": {},
   "outputs": [],
   "source": []
  }
 ],
 "metadata": {
  "kernelspec": {
   "display_name": "Python 3",
   "language": "python",
   "name": "python3"
  },
  "language_info": {
   "codemirror_mode": {
    "name": "ipython",
    "version": 3
   },
   "file_extension": ".py",
   "mimetype": "text/x-python",
   "name": "python",
   "nbconvert_exporter": "python",
   "pygments_lexer": "ipython3",
   "version": "3.6.8"
  }
 },
 "nbformat": 4,
 "nbformat_minor": 2
}
